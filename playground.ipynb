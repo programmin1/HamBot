{
 "cells": [
  {
   "cell_type": "code",
   "execution_count": null,
   "metadata": {},
   "outputs": [],
   "source": [
    "import numpy as np\n",
    "from scipy.io import wavfile\n",
    "from matplotlib import pyplot as plt"
   ]
  },
  {
   "cell_type": "code",
   "execution_count": null,
   "metadata": {},
   "outputs": [],
   "source": [
    "def mix_audio(signal, noise, snr):\n",
    "    '''\n",
    "    Adapted from https://stackoverflow.com/a/72124325\n",
    "    '''\n",
    "    # if the audio is longer than the noise\n",
    "    # play the noise in repeat for the duration of the audio\n",
    "    noise = noise[np.arange(len(signal)) % len(noise)]\n",
    "    \n",
    "    # if the audio is shorter than the noi\n",
    "    # this is important if loading resulted in \n",
    "    # uint8 or uint16 types, because it would cause overflow\n",
    "    # when squaring and calculating mean\n",
    "    noise = noise.astype(np.float32)\n",
    "    signal = signal.astype(np.float32)\n",
    "    \n",
    "    # get the initial energy for reference\n",
    "    signal_energy = np.mean(signal**2)\n",
    "    noise_energy = np.mean(noise**2)\n",
    "    # calculates the gain to be applied to the noise \n",
    "    # to achieve the given SNR\n",
    "    g = np.sqrt(10.0 ** (-snr/10) * signal_energy / noise_energy)\n",
    "    \n",
    "    # Assumes signal and noise to be decorrelated\n",
    "    # and calculate (a, b) such that energy of \n",
    "    # a*signal + b*noise matches the energy of the input signal\n",
    "    a = np.sqrt(1 / (1 + g**2))\n",
    "    b = np.sqrt(g**2 / (1 + g**2))\n",
    "\n",
    "    c = a * signal + b * noise\n",
    "\n",
    "    print(g, a, b)\n",
    "    # mix the signals\n",
    "    return np.int16(c/np.max(np.abs(c)) * 32767)\n",
    "\n"
   ]
  },
  {
   "cell_type": "code",
   "execution_count": null,
   "metadata": {},
   "outputs": [],
   "source": [
    "# signal = np.random.randint(0, 2, 10**7) - 0.5\n",
    "sampling_rate, signal = wavfile.read(\"C:\\\\Users\\\\23963\\\\Desktop\\\\NATO\\\\NATO_Phonetic_Alphabet_reading_mono.wav\")\n",
    "# use some non-standard noise distribution\n",
    "# noise = np.sin(np.random.randn(6*10**7))\n",
    "noise = np.random.normal(0, 1, size=len(signal))\n",
    "\n",
    "# noise = np.ones_like(signal)*.000001\n",
    "\n",
    "for n in range(-6,7):\n",
    "    noisy = mix_audio(signal, noise, 2**n)\n",
    "    # plt.hist(noisy, bins=300)\n",
    "\n",
    "    wavfile.write(\"C:\\\\Users\\\\23963\\\\Desktop\\\\NATO\\\\NATO_Phonetic_Alphabet_reading_mono_SNR_{}.wav\".format(round(2**n,3)),sampling_rate, noisy)\n",
    "\n"
   ]
  }
 ],
 "metadata": {
  "kernelspec": {
   "display_name": "Python 3.9.12 ('hambot.venv')",
   "language": "python",
   "name": "python3"
  },
  "language_info": {
   "codemirror_mode": {
    "name": "ipython",
    "version": 3
   },
   "file_extension": ".py",
   "mimetype": "text/x-python",
   "name": "python",
   "nbconvert_exporter": "python",
   "pygments_lexer": "ipython3",
   "version": "3.9.12"
  },
  "orig_nbformat": 4,
  "vscode": {
   "interpreter": {
    "hash": "12a46bdb1e1b2cc803feb9700f249e0c00e601759d7026e5db52c5a32a69d929"
   }
  }
 },
 "nbformat": 4,
 "nbformat_minor": 2
}
